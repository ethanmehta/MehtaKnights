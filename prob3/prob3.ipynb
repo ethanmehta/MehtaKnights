{
 "cells": [
  {
   "cell_type": "markdown",
   "metadata": {},
   "source": [
    "# Solving CartPole-v0 Efficiently with A3C\n",
    "\n",
    "In this problem, we will return to CartPole-v0, but this time we will employ a different DeepRL strategy known as Asynchronous Advantage Actor-Critic (A3C). A3C tends to offer significantly better results than VPG, as you shall soon see!    "
   ]
  },
  {
   "cell_type": "markdown",
   "metadata": {},
   "source": [
    "## Part 1: Setup"
   ]
  },
  {
   "cell_type": "markdown",
   "metadata": {},
   "source": [
    "First, import the necessary packages."
   ]
  },
  {
   "cell_type": "code",
   "execution_count": 1,
   "metadata": {},
   "outputs": [
    {
     "name": "stdout",
     "output_type": "stream",
     "text": [
      "Requirement already satisfied: gym in /Users/jsboygenius/.local/lib/python3.8/site-packages (0.17.3)\n",
      "Requirement already satisfied: pyglet<=1.5.0,>=1.4.0 in /Users/jsboygenius/.local/lib/python3.8/site-packages (from gym) (1.5.0)\n",
      "Requirement already satisfied: numpy>=1.10.4 in /Users/jsboygenius/.local/lib/python3.8/site-packages (from gym) (1.18.5)\n",
      "Requirement already satisfied: cloudpickle<1.7.0,>=1.2.0 in /Users/jsboygenius/anaconda3/lib/python3.8/site-packages (from gym) (1.6.0)\n",
      "Requirement already satisfied: scipy in /Users/jsboygenius/anaconda3/lib/python3.8/site-packages (from gym) (1.5.2)\n",
      "Requirement already satisfied: future in /Users/jsboygenius/anaconda3/lib/python3.8/site-packages (from pyglet<=1.5.0,>=1.4.0->gym) (0.18.2)\n"
     ]
    }
   ],
   "source": [
    "# We have tested these imports on several machines, \n",
    "# but depending on your computer, you may need to \n",
    "# run some of these imports in your local environment.\n",
    "\n",
    "# For file saving operations\n",
    "import os\n",
    "\n",
    "# For multiple worker threads\n",
    "from threading import Thread, Lock\n",
    "import multiprocessing\n",
    "from queue import Queue\n",
    "\n",
    "# For math/plotting\n",
    "import numpy as np\n",
    "import matplotlib.pyplot as plt\n",
    "\n",
    "# For testing in simulated environments\n",
    "!pip install --user gym\n",
    "import gym\n",
    "\n",
    "# For training the Actor-Critic model\n",
    "import tensorflow as tf\n",
    "from tensorflow.python import keras\n",
    "from tensorflow.python.keras import layers"
   ]
  },
  {
   "cell_type": "markdown",
   "metadata": {},
   "source": [
    "Next, implement the custom `ActorCriticModel`, which inherits from `keras.Model`.\n",
    "\n",
    "You will need to initialize the layers for the neural net as follows:\n",
    "- Dense layer of size 100, with ReLU activation\n",
    "- Logits output layer\n",
    "- Dense layer of size 100, with ReLU activation\n",
    "- Action output layer\n"
   ]
  },
  {
   "cell_type": "code",
   "execution_count": 7,
   "metadata": {},
   "outputs": [],
   "source": [
    "class ActorCriticModel(keras.Model):\n",
    "    def __init__(self, state_size, action_size):\n",
    "        # Init from keras.Model\n",
    "        super(ActorCriticModel, self).__init__()\n",
    "        \n",
    "        # Constants for available state space and action space sizes\n",
    "        self.state_size = state_size\n",
    "        self.action_size = action_size\n",
    "\n",
    "        ### TODO: Initialize layers for the neural net ###        \n",
    "        self.dense1 = None\n",
    "        self.policy_logits = None\n",
    "        self.dense2 = None\n",
    "        self.values = None        \n",
    "        ### TODO ###\n",
    "\n",
    "    def call(self, inputs):\n",
    "        # Overloaded from keras.Model\n",
    "        \n",
    "        ### TODO: compute forward pass through neural net ###\n",
    "        logits = None\n",
    "        values = None\n",
    "        ### TODO ###\n",
    "        return logits, values"
   ]
  },
  {
   "cell_type": "markdown",
   "metadata": {},
   "source": [
    "Now, we have provided you with a `BaseAgent` class from which our DeepRL agents will inherit. Note that the subclassed agent will specify a `train` method (for training the agent) and a `play` method (for playing back a single episode) - you will end up writing parts of these methods!"
   ]
  },
  {
   "cell_type": "code",
   "execution_count": 8,
   "metadata": {},
   "outputs": [],
   "source": [
    "class BaseAgent:\n",
    "    \"\"\"\n",
    "    Base class from which all custom agents will inherit.\n",
    "    \"\"\"\n",
    "    \n",
    "    def __init__(self, env_name, num_episodes):\n",
    "        self.env_name = env_name\n",
    "        self.env = gym.make(env_name)\n",
    "        self.num_episodes = num_episodes\n",
    "        \n",
    "        self.result_queue = Queue()\n",
    "        \n",
    "    def train(self):\n",
    "        pass\n",
    "    \n",
    "    def play(self, render=False):\n",
    "        pass\n",
    "    \n",
    "    def record_episode(self, episode_num, episode_reward, episode_loss, episode_steps, average_reward = 0, worker_idx = None):\n",
    "        '''\n",
    "        Helper function to log output about completed episode, while also updating the result queue\n",
    "        '''\n",
    "        \n",
    "        average_reward = average_reward * 0.99 + episode_reward * 0.01 if average_reward > 0 else episode_reward\n",
    "        \n",
    "        self.result_queue.put(average_reward)\n",
    "        \n",
    "        print(\n",
    "          f\"Episode: {episode_num} | \"\n",
    "          f\"Moving Average Reward: {round(average_reward)} | \"\n",
    "          f\"Episode Reward: {round(episode_reward)} | \"\n",
    "          f\"Loss per step: {round(float(episode_loss) / episode_steps, 3)} | \"\n",
    "          f\"Steps: {episode_steps} | \"\n",
    "          f\"Worker: {worker_idx}\"\n",
    "        )\n",
    "        return average_reward"
   ]
  },
  {
   "cell_type": "markdown",
   "metadata": {},
   "source": [
    "## Part 2: RandomAgent Baseline"
   ]
  },
  {
   "cell_type": "markdown",
   "metadata": {},
   "source": [
    "Now, you will implement a `RandomAgent` so that we have a baseline performance. This will be very similar to what you have seen on earlier problems."
   ]
  },
  {
   "cell_type": "code",
   "execution_count": 9,
   "metadata": {},
   "outputs": [],
   "source": [
    "class RandomAgent(BaseAgent):\n",
    "    \"\"\"\n",
    "    Agent that chooses actions randomly\n",
    "    \"\"\"\n",
    "    def play(self, render=False):\n",
    "        # Reset environment\n",
    "        self.env.reset()\n",
    "        \n",
    "        total_reward = 0\n",
    "        steps_taken = 0\n",
    "        \n",
    "        done = False\n",
    "        while not done:\n",
    "            ### TODO: Choose and take a random action from the environment's action space ###\n",
    "\n",
    "            ### TODO ###\n",
    "            \n",
    "            if render:\n",
    "                self.env.render() # Only render if requested\n",
    "            \n",
    "            total_reward += reward\n",
    "            steps_taken += 1\n",
    "        \n",
    "        self.env.close()        \n",
    "        return total_reward, steps_taken\n",
    "    \n",
    "    def train(self):\n",
    "        # Since this is a random agent, we won't actually do any real training.\n",
    "        # Instead, we'll simply run through the episodes using play()\n",
    "        weighted_average_reward = 0\n",
    "        total_reward = 0\n",
    "        for episode in range(self.num_episodes):\n",
    "            reward, steps = self.play()\n",
    "            \n",
    "            weighted_average_reward = self.record_episode(episode, reward, 0, steps, weighted_average_reward)\n",
    "            \n",
    "            total_reward += reward \n",
    "\n",
    "        simple_average_reward = total_reward / self.num_episodes\n",
    "        print(f\"After {self.num_episodes}, simple average reward is {simple_average_reward} and weighted average reward is {weighted_average_reward}\")\n",
    "        return weighted_average_reward"
   ]
  },
  {
   "cell_type": "markdown",
   "metadata": {},
   "source": [
    "Now that you've implemented the RandomAgent, let's see what its baseline performance looks like."
   ]
  },
  {
   "cell_type": "code",
   "execution_count": 10,
   "metadata": {},
   "outputs": [
    {
     "name": "stdout",
     "output_type": "stream",
     "text": [
      "Episode: 0 | Moving Average Reward: 15 | Episode Reward: 15 | Loss per step: 0.0 | Steps: 15 | Worker: None\n",
      "Episode: 1 | Moving Average Reward: 15 | Episode Reward: 20 | Loss per step: 0.0 | Steps: 20 | Worker: None\n",
      "Episode: 2 | Moving Average Reward: 15 | Episode Reward: 15 | Loss per step: 0.0 | Steps: 15 | Worker: None\n",
      "Episode: 3 | Moving Average Reward: 15 | Episode Reward: 17 | Loss per step: 0.0 | Steps: 17 | Worker: None\n",
      "Episode: 4 | Moving Average Reward: 15 | Episode Reward: 16 | Loss per step: 0.0 | Steps: 16 | Worker: None\n",
      "Episode: 5 | Moving Average Reward: 15 | Episode Reward: 13 | Loss per step: 0.0 | Steps: 13 | Worker: None\n",
      "Episode: 6 | Moving Average Reward: 15 | Episode Reward: 16 | Loss per step: 0.0 | Steps: 16 | Worker: None\n",
      "Episode: 7 | Moving Average Reward: 15 | Episode Reward: 26 | Loss per step: 0.0 | Steps: 26 | Worker: None\n",
      "Episode: 8 | Moving Average Reward: 15 | Episode Reward: 19 | Loss per step: 0.0 | Steps: 19 | Worker: None\n",
      "Episode: 9 | Moving Average Reward: 15 | Episode Reward: 38 | Loss per step: 0.0 | Steps: 38 | Worker: None\n",
      "Episode: 10 | Moving Average Reward: 15 | Episode Reward: 16 | Loss per step: 0.0 | Steps: 16 | Worker: None\n",
      "Episode: 11 | Moving Average Reward: 15 | Episode Reward: 16 | Loss per step: 0.0 | Steps: 16 | Worker: None\n",
      "Episode: 12 | Moving Average Reward: 15 | Episode Reward: 11 | Loss per step: 0.0 | Steps: 11 | Worker: None\n",
      "Episode: 13 | Moving Average Reward: 15 | Episode Reward: 13 | Loss per step: 0.0 | Steps: 13 | Worker: None\n",
      "Episode: 14 | Moving Average Reward: 15 | Episode Reward: 14 | Loss per step: 0.0 | Steps: 14 | Worker: None\n",
      "Episode: 15 | Moving Average Reward: 15 | Episode Reward: 25 | Loss per step: 0.0 | Steps: 25 | Worker: None\n",
      "Episode: 16 | Moving Average Reward: 16 | Episode Reward: 26 | Loss per step: 0.0 | Steps: 26 | Worker: None\n",
      "Episode: 17 | Moving Average Reward: 16 | Episode Reward: 14 | Loss per step: 0.0 | Steps: 14 | Worker: None\n",
      "Episode: 18 | Moving Average Reward: 16 | Episode Reward: 21 | Loss per step: 0.0 | Steps: 21 | Worker: None\n",
      "Episode: 19 | Moving Average Reward: 16 | Episode Reward: 29 | Loss per step: 0.0 | Steps: 29 | Worker: None\n",
      "Episode: 20 | Moving Average Reward: 16 | Episode Reward: 24 | Loss per step: 0.0 | Steps: 24 | Worker: None\n",
      "Episode: 21 | Moving Average Reward: 16 | Episode Reward: 26 | Loss per step: 0.0 | Steps: 26 | Worker: None\n",
      "Episode: 22 | Moving Average Reward: 16 | Episode Reward: 20 | Loss per step: 0.0 | Steps: 20 | Worker: None\n",
      "Episode: 23 | Moving Average Reward: 16 | Episode Reward: 27 | Loss per step: 0.0 | Steps: 27 | Worker: None\n",
      "Episode: 24 | Moving Average Reward: 16 | Episode Reward: 17 | Loss per step: 0.0 | Steps: 17 | Worker: None\n",
      "Episode: 25 | Moving Average Reward: 16 | Episode Reward: 15 | Loss per step: 0.0 | Steps: 15 | Worker: None\n",
      "Episode: 26 | Moving Average Reward: 16 | Episode Reward: 18 | Loss per step: 0.0 | Steps: 18 | Worker: None\n",
      "Episode: 27 | Moving Average Reward: 17 | Episode Reward: 76 | Loss per step: 0.0 | Steps: 76 | Worker: None\n",
      "Episode: 28 | Moving Average Reward: 17 | Episode Reward: 19 | Loss per step: 0.0 | Steps: 19 | Worker: None\n",
      "Episode: 29 | Moving Average Reward: 17 | Episode Reward: 25 | Loss per step: 0.0 | Steps: 25 | Worker: None\n",
      "Episode: 30 | Moving Average Reward: 17 | Episode Reward: 12 | Loss per step: 0.0 | Steps: 12 | Worker: None\n",
      "Episode: 31 | Moving Average Reward: 17 | Episode Reward: 31 | Loss per step: 0.0 | Steps: 31 | Worker: None\n",
      "Episode: 32 | Moving Average Reward: 17 | Episode Reward: 16 | Loss per step: 0.0 | Steps: 16 | Worker: None\n",
      "Episode: 33 | Moving Average Reward: 17 | Episode Reward: 24 | Loss per step: 0.0 | Steps: 24 | Worker: None\n",
      "Episode: 34 | Moving Average Reward: 17 | Episode Reward: 12 | Loss per step: 0.0 | Steps: 12 | Worker: None\n",
      "Episode: 35 | Moving Average Reward: 17 | Episode Reward: 21 | Loss per step: 0.0 | Steps: 21 | Worker: None\n",
      "Episode: 36 | Moving Average Reward: 17 | Episode Reward: 15 | Loss per step: 0.0 | Steps: 15 | Worker: None\n",
      "Episode: 37 | Moving Average Reward: 17 | Episode Reward: 14 | Loss per step: 0.0 | Steps: 14 | Worker: None\n",
      "Episode: 38 | Moving Average Reward: 17 | Episode Reward: 22 | Loss per step: 0.0 | Steps: 22 | Worker: None\n",
      "Episode: 39 | Moving Average Reward: 17 | Episode Reward: 14 | Loss per step: 0.0 | Steps: 14 | Worker: None\n",
      "Episode: 40 | Moving Average Reward: 17 | Episode Reward: 48 | Loss per step: 0.0 | Steps: 48 | Worker: None\n",
      "Episode: 41 | Moving Average Reward: 17 | Episode Reward: 30 | Loss per step: 0.0 | Steps: 30 | Worker: None\n",
      "Episode: 42 | Moving Average Reward: 17 | Episode Reward: 9 | Loss per step: 0.0 | Steps: 9 | Worker: None\n",
      "Episode: 43 | Moving Average Reward: 17 | Episode Reward: 15 | Loss per step: 0.0 | Steps: 15 | Worker: None\n",
      "Episode: 44 | Moving Average Reward: 17 | Episode Reward: 15 | Loss per step: 0.0 | Steps: 15 | Worker: None\n",
      "Episode: 45 | Moving Average Reward: 17 | Episode Reward: 13 | Loss per step: 0.0 | Steps: 13 | Worker: None\n",
      "Episode: 46 | Moving Average Reward: 17 | Episode Reward: 18 | Loss per step: 0.0 | Steps: 18 | Worker: None\n",
      "Episode: 47 | Moving Average Reward: 17 | Episode Reward: 11 | Loss per step: 0.0 | Steps: 11 | Worker: None\n",
      "Episode: 48 | Moving Average Reward: 17 | Episode Reward: 40 | Loss per step: 0.0 | Steps: 40 | Worker: None\n",
      "Episode: 49 | Moving Average Reward: 17 | Episode Reward: 12 | Loss per step: 0.0 | Steps: 12 | Worker: None\n",
      "Episode: 50 | Moving Average Reward: 18 | Episode Reward: 46 | Loss per step: 0.0 | Steps: 46 | Worker: None\n",
      "Episode: 51 | Moving Average Reward: 18 | Episode Reward: 8 | Loss per step: 0.0 | Steps: 8 | Worker: None\n",
      "Episode: 52 | Moving Average Reward: 18 | Episode Reward: 19 | Loss per step: 0.0 | Steps: 19 | Worker: None\n",
      "Episode: 53 | Moving Average Reward: 17 | Episode Reward: 14 | Loss per step: 0.0 | Steps: 14 | Worker: None\n",
      "Episode: 54 | Moving Average Reward: 17 | Episode Reward: 15 | Loss per step: 0.0 | Steps: 15 | Worker: None\n",
      "Episode: 55 | Moving Average Reward: 18 | Episode Reward: 22 | Loss per step: 0.0 | Steps: 22 | Worker: None\n",
      "Episode: 56 | Moving Average Reward: 17 | Episode Reward: 14 | Loss per step: 0.0 | Steps: 14 | Worker: None\n",
      "Episode: 57 | Moving Average Reward: 17 | Episode Reward: 11 | Loss per step: 0.0 | Steps: 11 | Worker: None\n",
      "Episode: 58 | Moving Average Reward: 17 | Episode Reward: 11 | Loss per step: 0.0 | Steps: 11 | Worker: None\n",
      "Episode: 59 | Moving Average Reward: 17 | Episode Reward: 29 | Loss per step: 0.0 | Steps: 29 | Worker: None\n",
      "Episode: 60 | Moving Average Reward: 17 | Episode Reward: 21 | Loss per step: 0.0 | Steps: 21 | Worker: None\n",
      "Episode: 61 | Moving Average Reward: 18 | Episode Reward: 22 | Loss per step: 0.0 | Steps: 22 | Worker: None\n",
      "Episode: 62 | Moving Average Reward: 17 | Episode Reward: 10 | Loss per step: 0.0 | Steps: 10 | Worker: None\n",
      "Episode: 63 | Moving Average Reward: 17 | Episode Reward: 16 | Loss per step: 0.0 | Steps: 16 | Worker: None\n",
      "Episode: 64 | Moving Average Reward: 17 | Episode Reward: 10 | Loss per step: 0.0 | Steps: 10 | Worker: None\n",
      "Episode: 65 | Moving Average Reward: 17 | Episode Reward: 11 | Loss per step: 0.0 | Steps: 11 | Worker: None\n",
      "Episode: 66 | Moving Average Reward: 17 | Episode Reward: 11 | Loss per step: 0.0 | Steps: 11 | Worker: None\n",
      "Episode: 67 | Moving Average Reward: 17 | Episode Reward: 29 | Loss per step: 0.0 | Steps: 29 | Worker: None\n",
      "Episode: 68 | Moving Average Reward: 17 | Episode Reward: 26 | Loss per step: 0.0 | Steps: 26 | Worker: None\n",
      "Episode: 69 | Moving Average Reward: 17 | Episode Reward: 12 | Loss per step: 0.0 | Steps: 12 | Worker: None\n",
      "Episode: 70 | Moving Average Reward: 17 | Episode Reward: 20 | Loss per step: 0.0 | Steps: 20 | Worker: None\n",
      "Episode: 71 | Moving Average Reward: 17 | Episode Reward: 25 | Loss per step: 0.0 | Steps: 25 | Worker: None\n",
      "Episode: 72 | Moving Average Reward: 18 | Episode Reward: 22 | Loss per step: 0.0 | Steps: 22 | Worker: None\n",
      "Episode: 73 | Moving Average Reward: 18 | Episode Reward: 49 | Loss per step: 0.0 | Steps: 49 | Worker: None\n",
      "Episode: 74 | Moving Average Reward: 18 | Episode Reward: 21 | Loss per step: 0.0 | Steps: 21 | Worker: None\n",
      "Episode: 75 | Moving Average Reward: 18 | Episode Reward: 13 | Loss per step: 0.0 | Steps: 13 | Worker: None\n",
      "Episode: 76 | Moving Average Reward: 18 | Episode Reward: 11 | Loss per step: 0.0 | Steps: 11 | Worker: None\n",
      "Episode: 77 | Moving Average Reward: 18 | Episode Reward: 49 | Loss per step: 0.0 | Steps: 49 | Worker: None\n",
      "Episode: 78 | Moving Average Reward: 18 | Episode Reward: 12 | Loss per step: 0.0 | Steps: 12 | Worker: None\n",
      "Episode: 79 | Moving Average Reward: 18 | Episode Reward: 36 | Loss per step: 0.0 | Steps: 36 | Worker: None\n",
      "Episode: 80 | Moving Average Reward: 18 | Episode Reward: 20 | Loss per step: 0.0 | Steps: 20 | Worker: None\n",
      "Episode: 81 | Moving Average Reward: 18 | Episode Reward: 10 | Loss per step: 0.0 | Steps: 10 | Worker: None\n",
      "Episode: 82 | Moving Average Reward: 18 | Episode Reward: 17 | Loss per step: 0.0 | Steps: 17 | Worker: None\n",
      "Episode: 83 | Moving Average Reward: 18 | Episode Reward: 12 | Loss per step: 0.0 | Steps: 12 | Worker: None\n",
      "Episode: 84 | Moving Average Reward: 18 | Episode Reward: 9 | Loss per step: 0.0 | Steps: 9 | Worker: None\n",
      "Episode: 85 | Moving Average Reward: 18 | Episode Reward: 27 | Loss per step: 0.0 | Steps: 27 | Worker: None\n",
      "Episode: 86 | Moving Average Reward: 18 | Episode Reward: 18 | Loss per step: 0.0 | Steps: 18 | Worker: None\n",
      "Episode: 87 | Moving Average Reward: 18 | Episode Reward: 19 | Loss per step: 0.0 | Steps: 19 | Worker: None\n",
      "Episode: 88 | Moving Average Reward: 18 | Episode Reward: 21 | Loss per step: 0.0 | Steps: 21 | Worker: None\n",
      "Episode: 89 | Moving Average Reward: 18 | Episode Reward: 25 | Loss per step: 0.0 | Steps: 25 | Worker: None\n",
      "Episode: 90 | Moving Average Reward: 18 | Episode Reward: 30 | Loss per step: 0.0 | Steps: 30 | Worker: None\n",
      "Episode: 91 | Moving Average Reward: 18 | Episode Reward: 20 | Loss per step: 0.0 | Steps: 20 | Worker: None\n",
      "Episode: 92 | Moving Average Reward: 18 | Episode Reward: 14 | Loss per step: 0.0 | Steps: 14 | Worker: None\n",
      "Episode: 93 | Moving Average Reward: 18 | Episode Reward: 31 | Loss per step: 0.0 | Steps: 31 | Worker: None\n",
      "Episode: 94 | Moving Average Reward: 18 | Episode Reward: 13 | Loss per step: 0.0 | Steps: 13 | Worker: None\n",
      "Episode: 95 | Moving Average Reward: 18 | Episode Reward: 20 | Loss per step: 0.0 | Steps: 20 | Worker: None\n",
      "Episode: 96 | Moving Average Reward: 18 | Episode Reward: 29 | Loss per step: 0.0 | Steps: 29 | Worker: None\n",
      "Episode: 97 | Moving Average Reward: 19 | Episode Reward: 27 | Loss per step: 0.0 | Steps: 27 | Worker: None\n",
      "Episode: 98 | Moving Average Reward: 19 | Episode Reward: 16 | Loss per step: 0.0 | Steps: 16 | Worker: None\n",
      "Episode: 99 | Moving Average Reward: 18 | Episode Reward: 9 | Loss per step: 0.0 | Steps: 9 | Worker: None\n",
      "After 100, simple average reward is 20.41 and weighted average reward is 18.424775332267508\n"
     ]
    },
    {
     "data": {
      "text/plain": [
       "(24.0, 24)"
      ]
     },
     "execution_count": 10,
     "metadata": {},
     "output_type": "execute_result"
    }
   ],
   "source": [
    "random_agent = RandomAgent(\"CartPole-v0\", 100)\n",
    "random_agent.train()\n",
    "\n",
    "random_agent.play(render=True)"
   ]
  },
  {
   "cell_type": "markdown",
   "metadata": {},
   "source": [
    "As you saw, the episode ends almost instantly, because the random policy is not very good! With an average reward of only about 20, we are very far away from the required 195 reward to meet OpenAI's criteria for solving `CartPole-v0`.\n",
    "\n",
    "Let's see how we can use the A3C approach to get significantly better results!"
   ]
  },
  {
   "cell_type": "markdown",
   "metadata": {},
   "source": [
    "## Part 3: A3C Implementation"
   ]
  },
  {
   "cell_type": "markdown",
   "metadata": {},
   "source": [
    "First, let's review what the A3C algorithm is. \n",
    "\n",
    "A3C stands for **Asynchronous Advantage Actor-Critic**. Let's break it down:\n",
    "1. **Aysnchronous:** One key advantage of A3C is the comparative speed at which is can be trained compared to other DeepRL methods like DQN. The secret to this speed is a parallelized approach. In A3C, several worker agents are working in parallel on their own individual, local copies of the environment. After several steps, the worker agents update their local models, and then compare their local models to the single global model. If any individual worker has made an improvement to the global model, the global model is updated and all the asynchronous workers synchronize their local models to the new global model. This approach means we can benefit significantly from the speedups in parallel computation. You will learn much more about parallelization in CS 61C!\n",
    "\n",
    "2. **Advantage:** As you have learned, A3C focuses on estimating the Advantages of actions, exploring parts of the action space that were surprisingly better than expected. Advantage is defined as the difference between a better Q-state and the Value of a state per an existing policy. That is: $$A(s, a) = Q(s, a) - V^\\pi(s)$$ Since this math is outside the scope of this project, we will implement the Advantage calculation for you.\n",
    "\n",
    "3. **Actor-Critic:** The Actor-Critic model is a typical setup for DeepRL, in which an Actor tries to determine the best action from a given state, and in which a Critic evaluates the chosen action for long-term reward. Usually, the Critic is estimating the Value of the state achieved after taking the action. However, in A3C, the Critic instead estimates the Advantage of the state-action pair from the Actor. The interplay between Actor and Critic helps the system converge faster and achieve better results than either system alone.\n",
    "\n",
    "Now that you have a high-level understanding of what A3C is, let's get into the details and start implementing it!"
   ]
  },
  {
   "cell_type": "markdown",
   "metadata": {},
   "source": [
    "First, we will create a class representing the Asynchronous Workers that do the heavy lifting in the A3C approach. Each asynchronous worker maintains a local copy of the model and its own environment, and then periodically checks and synchronizes with the global model. \n",
    "\n",
    "Since this may be your first exposure to multithreaded programming, we have provided most of that structure for you. :)"
   ]
  },
  {
   "cell_type": "code",
   "execution_count": 14,
   "metadata": {},
   "outputs": [],
   "source": [
    "class AsyncWorkerAgent(Thread, BaseAgent):\n",
    "    \"\"\"\n",
    "    Aysnchronous worker that trains on an individual instance of the environment\n",
    "    \"\"\"\n",
    "\n",
    "    # Global variables across threads\n",
    "    mutex = Lock()\n",
    "    global_episode_idx = 0\n",
    "    global_moving_average_reward = 0\n",
    "    best_reward = 0\n",
    "    \n",
    "    def __init__(self, worker_idx, env_name, num_episodes, global_model, optimizer, global_result_queue, save_dir, update_frequency=20, gamma=0.99):\n",
    "        Thread.__init__(self) \n",
    "        BaseAgent.__init__(self, env_name, num_episodes)\n",
    "        \n",
    "        self.worker_idx = worker_idx\n",
    "        \n",
    "        self.global_model = global_model\n",
    "        self.optimizer = optimizer\n",
    "        self.result_queue = global_result_queue\n",
    "        self.save_dir = save_dir\n",
    "        self.update_frequency = update_frequency \n",
    "        self.gamma = gamma # The discount factor for rewards\n",
    "\n",
    "        ### TODO: Get the size of the state and action spaces from self.env ###        \n",
    "        self.state_size = None\n",
    "        self.action_size = None\n",
    "        ### TODO ###\n",
    "    \n",
    "        self.local_model = ActorCriticModel(self.state_size, self.action_size)\n",
    "        \n",
    "        # Reset global variables\n",
    "        AsyncWorkerAgent.global_episode_idx = 0\n",
    "        AsyncWorkerAgent.global_moving_average_reward = 0\n",
    "        AsyncWorkerAgent.best_reward = 0\n",
    "        \n",
    "    def run(self):\n",
    "        # Overloaded from Thread\n",
    "        self.train()\n",
    "        \n",
    "    def train(self):\n",
    "        # Even though we have multiple workers, the total number of episodes run is still num_episodes\n",
    "        while AsyncWorkerAgent.global_episode_idx < self.num_episodes:\n",
    "            episode_idx = AsyncWorkerAgent.global_episode_idx\n",
    "            current_state = self.env.reset()\n",
    "        \n",
    "            total_reward = 0\n",
    "            total_loss = 0.0\n",
    "            steps_taken = 0\n",
    "            \n",
    "            # Maintain a buffer of the most recent states, actions, and rewards to train the Actor-Critic from\n",
    "            buffer_states = []\n",
    "            buffer_actions = []\n",
    "            buffer_rewards = []\n",
    "\n",
    "            done = False\n",
    "            while not done:\n",
    "                ### TODO: Choose action according to probabilities from neural net ###\n",
    "                # Note that the action space is discrete, so a valid action is an integer between [0, size of space]\n",
    "                action = None\n",
    "                ### TODO ###\n",
    "\n",
    "                new_state, reward, done, _ = self.env.step(action)\n",
    "                                \n",
    "                buffer_states.append(current_state)\n",
    "                buffer_actions.append(action)\n",
    "                buffer_rewards.append(reward)\n",
    "\n",
    "                total_reward += reward\n",
    "                steps_taken += 1\n",
    "\n",
    "                # Periodically compute gradients to update model\n",
    "                if steps_taken % self.update_frequency == 0 or done:\n",
    "                    # We use TensorFlow's GradientTape functionality to track the gradient of our custom loss function\n",
    "                    with tf.GradientTape() as tape:\n",
    "                        ### TODO: Use the compute_loss() helper function to obtain the loss ###                        \n",
    "                        loss = 0\n",
    "                        ### TODO ###\n",
    "            \n",
    "                    buffer_states, buffer_actions, buffer_rewards = [], [], []\n",
    "                    total_loss += loss\n",
    "\n",
    "                    # Calculate local gradients\n",
    "                    grads = tape.gradient(loss, self.local_model.trainable_weights)\n",
    "\n",
    "                    # Push local gradients to global model\n",
    "                    self.optimizer.apply_gradients(zip(grads, self.global_model.trainable_weights))\n",
    "                    \n",
    "                    # Update local model with new weights\n",
    "                    self.local_model.set_weights(self.global_model.get_weights())  \n",
    "                    \n",
    "                current_state = new_state\n",
    "\n",
    "            AsyncWorkerAgent.global_moving_average_reward = \\\n",
    "                  self.record_episode(episode_idx, total_reward, total_loss, steps_taken, AsyncWorkerAgent.global_moving_average_reward, self.worker_idx)\n",
    "\n",
    "            # Check if our local model has surpassed \n",
    "            if total_reward > AsyncWorkerAgent.best_reward:\n",
    "                # Acquire the mutex to save weights without any data races\n",
    "                with AsyncWorkerAgent.mutex:\n",
    "                    weights_file = os.path.join(self.save_dir,\n",
    "                                     f'model_{self.env_name}_{total_reward}.h5')\n",
    "                    print(f\"Saving best model to {weights_file}, episode score: {total_reward}\")\n",
    "                    self.global_model.save_weights(weights_file)\n",
    "                    AsyncWorkerAgent.best_reward = total_reward\n",
    "            \n",
    "            AsyncWorkerAgent.global_episode_idx += 1\n",
    "                \n",
    "\n",
    "    def compute_loss(self, done, state, prev_states, prev_actions, prev_rewards, gamma):\n",
    "        \"\"\"\n",
    "        Helper function to compute custom loss for A3C.\n",
    "        \"\"\"\n",
    "        ### TODO: Initialize reward_sum based on the expected future reward from the current state ###       \n",
    "        if done:\n",
    "            reward_sum = 0\n",
    "        else:\n",
    "            reward_sum = 0\n",
    "        ## TODO ###\n",
    "\n",
    "        ### TODO: Discount previous rewards using discount factor\n",
    "        discounted_rewards = []\n",
    "        ### TODO ###\n",
    "\n",
    "        ### TODO: Compute the logits and values using our local model ###\n",
    "        logits, values = None, None\n",
    "        ### TODO ###\n",
    "        \n",
    "        # Get our advantages\n",
    "        advantage = tf.convert_to_tensor(np.array(discounted_rewards)[:, None],\n",
    "                                dtype=tf.float32) - values\n",
    "        # Value loss\n",
    "        value_loss = advantage ** 2\n",
    "\n",
    "        # Calculate our policy loss\n",
    "        policy = tf.nn.softmax(logits)\n",
    "        entropy = tf.nn.softmax_cross_entropy_with_logits(labels=policy, logits=logits)\n",
    "\n",
    "        policy_loss = tf.nn.sparse_softmax_cross_entropy_with_logits(labels=prev_actions,\n",
    "                                                                     logits=logits)\n",
    "        policy_loss *= tf.stop_gradient(advantage)\n",
    "        policy_loss -= 0.01 * entropy\n",
    "        total_loss = tf.reduce_mean((0.5 * value_loss + policy_loss))\n",
    "        return total_loss"
   ]
  },
  {
   "cell_type": "markdown",
   "metadata": {},
   "source": [
    "Now that you've built the individual Asynchronous workers, it's time to build the master A3C agent that will put the workers to work!"
   ]
  },
  {
   "cell_type": "code",
   "execution_count": 31,
   "metadata": {},
   "outputs": [],
   "source": [
    "class A3CAgent(BaseAgent):\n",
    "    \"\"\"\n",
    "    Agent that uses Asynchronous Advantage Actor-Critic (A3C) method for learning\n",
    "    \"\"\"\n",
    "    def __init__(self, env_name, num_episodes):\n",
    "        # Call base constructor\n",
    "        super().__init__(env_name, num_episodes)\n",
    "\n",
    "        self.save_dir = \"/tmp/\"\n",
    "        if not os.path.exists(self.save_dir):\n",
    "            os.makedirs(self.save_dir)\n",
    "\n",
    "        ### TODO: Get the size of the state and action spaces from self.env ###  \n",
    "        self.state_size = None\n",
    "        self.action_size = None\n",
    "        ### TODO ###\n",
    "        \n",
    "        learning_rate = 0.001\n",
    "        ### TODO: Initialize Adam optimizer in locked mode with learning rate 0.001 ###\n",
    "        self.optimizer = None\n",
    "        ### TODO ###\n",
    "        \n",
    "        ### TODO: Create an ActorCritic model using our custom class, and initialize it with random data ###\n",
    "        self.global_model = None\n",
    "        ### TODO ###        \n",
    "        \n",
    "    def train(self):\n",
    "\n",
    "        ### TODO: Create 4 workers and store them in this list ###\n",
    "        # (Normally, we would limit based on number of cores on the computer for parallelization)\n",
    "        workers = []\n",
    "        ### TODO ###\n",
    "        \n",
    "        for i, worker in enumerate(workers):\n",
    "            print(f\"Starting worker {i}\")\n",
    "            worker.start()\n",
    "            \n",
    "        # Wait for all workers to finish\n",
    "        [w.join() for w in workers]\n",
    "        \n",
    "        ### TODO: Plot a graph of rewards from self.result_queue over time ### \n",
    "        \n",
    "        ### TODO ###\n",
    "    \n",
    "    def play(self, render=False, model_path=\"\"):\n",
    "        # If desired, load model from file\n",
    "        if model_path != \"\":\n",
    "            model_path = os.path.join(self.save_dir, model_path)\n",
    "            print(f'Loading model from: {model_path}')\n",
    "            self.global_model.load_weights(model_path)\n",
    "\n",
    "        # Reset environment\n",
    "        state = self.env.reset()\n",
    "        \n",
    "        total_reward = 0\n",
    "        steps_taken = 0\n",
    "        \n",
    "        done = False\n",
    "        while not done:\n",
    "            ### TODO: Extract the logits and value from the global model ###\n",
    "            logits, value = None, None\n",
    "            policy = None\n",
    "            ### TODO ###\n",
    "            \n",
    "            ### TODO: Identify optimal action from policy ###\n",
    "            action = None\n",
    "            ### TODO ###\n",
    "            \n",
    "            state, reward, done, _ = self.env.step(action)\n",
    "        \n",
    "            if render:\n",
    "                self.env.render(mode='rgb_array') # Only render if requested\n",
    "            \n",
    "            total_reward += reward\n",
    "            steps_taken += 1\n",
    "\n",
    "            print(f\"Step {steps_taken}: Total Reward: {total_reward}, Action: {action}\")\n",
    "        \n",
    "        self.env.close()\n",
    "        return total_reward, steps_taken\n"
   ]
  },
  {
   "cell_type": "markdown",
   "metadata": {},
   "source": [
    "Great work! Time to train the agent with 1000 episodes. **This will take a while.**"
   ]
  },
  {
   "cell_type": "code",
   "execution_count": 35,
   "metadata": {},
   "outputs": [
    {
     "name": "stdout",
     "output_type": "stream",
     "text": [
      "Starting worker 0\n",
      "Starting worker 1\n",
      "Starting worker 2\n",
      "Starting worker 3\n",
      "Episode: 0 | Moving Average Reward: 8 | Episode Reward: 8 | Loss per step: 1.717 | Steps: 8 | Worker: 3\n",
      "Saving best model to /tmp/model_CartPole-v0_8.0.h5, episode score: 8.0\n",
      "Episode: 0 | Moving Average Reward: 8 | Episode Reward: 30 | Loss per step: 3.08 | Steps: 30 | Worker: 2\n",
      "Saving best model to /tmp/model_CartPole-v0_30.0.h5, episode score: 30.0\n",
      "Episode: 0 | Moving Average Reward: 8 | Episode Reward: 30 | Loss per step: 3.001 | Steps: 30 | Worker: 0\n",
      "Episode: 0 | Moving Average Reward: 9 | Episode Reward: 55 | Loss per step: 3.262 | Steps: 55 | Worker: 1\n",
      "Saving best model to /tmp/model_CartPole-v0_55.0.h5, episode score: 55.0\n"
     ]
    },
    {
     "data": {
      "image/png": "[encoded data removed]",
      "text/plain": [
       "<Figure size 432x288 with 1 Axes>"
      ]
     },
     "metadata": {
      "needs_background": "light"
     },
     "output_type": "display_data"
    }
   ],
   "source": [
    "agent = A3CAgent(\"CartPole-v0\", 1000)\n",
    "agent.train()"
   ]
  },
  {
   "cell_type": "markdown",
   "metadata": {},
   "source": [
    "## Self-check:\n",
    "\n",
    "You should observe that the agent converges to a solution near the maximum reward of 200. OpenAI formally defines 'solving' CartPole once your algorithm achieves a running average of 195.0 reward or higher for 100 episodes. Depending on some random seeding, you may observe that your model doesn't exactly meet this requirement, but as long as the individual episode rewards are near 200 you are fine.\n",
    "\n",
    "If your solution is lagging significantly below the 200 reward level, check to make sure that your loss function is implemented as per the specifications, as this is the most common student error.\n",
    "\n",
    "Let's see what that looks like in action."
   ]
  },
  {
   "cell_type": "code",
   "execution_count": 36,
   "metadata": {},
   "outputs": [
    {
     "name": "stdout",
     "output_type": "stream",
     "text": [
      "Step 1: Total Reward: 1.0, Action: 0\n",
      "Step 2: Total Reward: 2.0, Action: 0\n",
      "Step 3: Total Reward: 3.0, Action: 0\n",
      "Step 4: Total Reward: 4.0, Action: 0\n",
      "Step 5: Total Reward: 5.0, Action: 0\n",
      "Step 6: Total Reward: 6.0, Action: 0\n",
      "Step 7: Total Reward: 7.0, Action: 0\n",
      "Step 8: Total Reward: 8.0, Action: 0\n",
      "Step 9: Total Reward: 9.0, Action: 0\n"
     ]
    },
    {
     "data": {
      "text/plain": [
       "(9.0, 9)"
      ]
     },
     "execution_count": 36,
     "metadata": {},
     "output_type": "execute_result"
    }
   ],
   "source": [
    "# In case you need to re-run this cell because of a notebook crash, you can load training weights from a file\n",
    "# Either scroll through the training output or scan through the save directory for the weights with best performance\n",
    "# agent.play(render=True, model_path=\"/tmp/model_CartPole-v0_200.0.h5\")\n",
    "\n",
    "agent.play(render=True)"
   ]
  },
  {
   "cell_type": "markdown",
   "metadata": {},
   "source": [
    "Congratulations! If your model looks good qualitatively, you are done!"
   ]
  }
 ],
 "metadata": {
  "kernelspec": {
   "display_name": "Python 3",
   "language": "python",
   "name": "python3"
  },
  "language_info": {
   "codemirror_mode": {
    "name": "ipython",
    "version": 3
   },
   "file_extension": ".py",
   "mimetype": "text/x-python",
   "name": "python",
   "nbconvert_exporter": "python",
   "pygments_lexer": "ipython3",
   "version": "3.8.5"
  }
 },
 "nbformat": 4,
 "nbformat_minor": 2
}
