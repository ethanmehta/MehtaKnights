{
 "cells": [
  {
   "cell_type": "code",
   "execution_count": 1,
   "metadata": {},
   "outputs": [],
   "source": [
    "!pip install cmake 'gym[atari]' scipy -q"
   ]
  },
  {
   "cell_type": "code",
   "execution_count": 2,
   "metadata": {},
   "outputs": [],
   "source": [
    "import gym"
   ]
  },
  {
   "cell_type": "code",
   "execution_count": 217,
   "metadata": {},
   "outputs": [
    {
     "name": "stdout",
     "output_type": "stream",
     "text": [
      "+---------+\n",
      "|\u001b[34;1mR\u001b[0m: | : :G|\n",
      "| : | : : |\n",
      "| : : : : |\n",
      "| | : | : |\n",
      "|\u001b[35mY\u001b[0m| : |\u001b[43mB\u001b[0m: |\n",
      "+---------+\n",
      "\n"
     ]
    }
   ],
   "source": [
    "env = gym.make(\"Taxi-v3\").env\n",
    "env.render()"
   ]
  },
  {
   "cell_type": "code",
   "execution_count": 218,
   "metadata": {},
   "outputs": [
    {
     "name": "stdout",
     "output_type": "stream",
     "text": [
      "+---------+\n",
      "|\u001b[35mR\u001b[0m: | : :G|\n",
      "| : | : : |\n",
      "| : : : : |\n",
      "| | : | :\u001b[43m \u001b[0m|\n",
      "|Y| : |\u001b[34;1mB\u001b[0m: |\n",
      "+---------+\n",
      "\n",
      "Action Space Discrete(6)\n",
      "State Space Discrete(500)\n"
     ]
    }
   ],
   "source": [
    "env.reset()\n",
    "env.render()\n",
    "print(\"Action Space {}\".format(env.action_space))\n",
    "print(\"State Space {}\".format(env.observation_space))"
   ]
  },
  {
   "cell_type": "code",
   "execution_count": 219,
   "metadata": {},
   "outputs": [],
   "source": [
    "# Env Specifics\n",
    "# Taxi is Yellow without a passenger, Green with\n",
    "# RGYB are possible pickup and destination locations\n",
    "# Blue letter represents the current passenger pick up location\n",
    "# Purple letter is the current destination"
   ]
  },
  {
   "cell_type": "code",
   "execution_count": 220,
   "metadata": {},
   "outputs": [
    {
     "name": "stdout",
     "output_type": "stream",
     "text": [
      "State: 328\n",
      "+---------+\n",
      "|\u001b[35mR\u001b[0m: | : :G|\n",
      "| : | : : |\n",
      "| : : : : |\n",
      "| |\u001b[43m \u001b[0m: | : |\n",
      "|\u001b[34;1mY\u001b[0m| : |B: |\n",
      "+---------+\n",
      "\n"
     ]
    }
   ],
   "source": [
    "state = env.encode(3, 1, 2, 0) \n",
    "# (taxi row, taxi column, passenger index, destination index)\n",
    "\n",
    "print(\"State:\", state)\n",
    "\n",
    "env.s = state\n",
    "env.render()"
   ]
  },
  {
   "cell_type": "code",
   "execution_count": 221,
   "metadata": {},
   "outputs": [
    {
     "data": {
      "text/plain": [
       "{0: [(1.0, 428, -1, False)],\n",
       " 1: [(1.0, 228, -1, False)],\n",
       " 2: [(1.0, 348, -1, False)],\n",
       " 3: [(1.0, 328, -1, False)],\n",
       " 4: [(1.0, 328, -10, False)],\n",
       " 5: [(1.0, 328, -10, False)]}"
      ]
     },
     "execution_count": 221,
     "metadata": {},
     "output_type": "execute_result"
    }
   ],
   "source": [
    "# Initial Reward Table\n",
    "# Dict with structure:\n",
    "# {action: [(probability, nextstate, reward, done)]}\n",
    "# actions\n",
    "    # 0: south, 1: north, 2: east, 3: west, 4: pickup, 5: dropoff\n",
    "# probabilities:\n",
    "    # always 1 in this env\n",
    "# nextstate:\n",
    "    # state we will be in after taking action specified by key\n",
    "# reward:\n",
    "    # movement actions have reward -1.0\n",
    "    # pickup/dropoff actions have reward -10 in this state\n",
    "    # At dropoff/pickup locations, dropoff and pickup would have higher rewards (obviously)\n",
    "# done:\n",
    "    # tells us whether we have dropped someone off successfully (one episode) this is the flag that tells us if we are in a terminal state\n",
    "    \n",
    "\n",
    "\n",
    "env.P[328]"
   ]
  },
  {
   "cell_type": "code",
   "execution_count": 222,
   "metadata": {},
   "outputs": [
    {
     "name": "stdout",
     "output_type": "stream",
     "text": [
      "Timesteps taken: 428\n",
      "Penalties incurred: 125\n"
     ]
    }
   ],
   "source": [
    "# Brute Force Solution (no RL)\n",
    "env.s = 328  # set environment to illustration's state\n",
    "\n",
    "epochs = 0\n",
    "penalties, reward = 0, 0\n",
    "\n",
    "frames = [] # for animation\n",
    "\n",
    "done = False\n",
    "\n",
    "while not done:\n",
    "    action = env.action_space.sample()\n",
    "    state, reward, done, info = env.step(action)\n",
    "\n",
    "    if reward == -10:\n",
    "        penalties += 1\n",
    "    \n",
    "    # Put each rendered frame into dict for animation\n",
    "    frames.append({\n",
    "        'frame': env.render(mode='ansi'),\n",
    "        'state': state,\n",
    "        'action': action,\n",
    "        'reward': reward\n",
    "        }\n",
    "    )\n",
    "\n",
    "    epochs += 1\n",
    "    \n",
    "    \n",
    "print(\"Timesteps taken: {}\".format(epochs))\n",
    "print(\"Penalties incurred: {}\".format(penalties))\n"
   ]
  },
  {
   "cell_type": "code",
   "execution_count": 223,
   "metadata": {},
   "outputs": [
    {
     "name": "stdout",
     "output_type": "stream",
     "text": [
      "+---------+\n",
      "|\u001b[35m\u001b[34;1m\u001b[43mR\u001b[0m\u001b[0m\u001b[0m: | : :G|\n",
      "| : | : : |\n",
      "| : : : : |\n",
      "| | : | : |\n",
      "|Y| : |B: |\n",
      "+---------+\n",
      "  (Dropoff)\n",
      "\n",
      "Timestep: 428\n",
      "State: 0\n",
      "Action: 5\n",
      "Reward: 20\n"
     ]
    }
   ],
   "source": [
    "from IPython.display import clear_output\n",
    "from time import sleep\n",
    "\n",
    "def print_frames(frames):\n",
    "    for i, frame in enumerate(frames):\n",
    "        clear_output(wait=True)\n",
    "        print(frame['frame'])\n",
    "        print(f\"Timestep: {i + 1}\")\n",
    "        print(f\"State: {frame['state']}\")\n",
    "        print(f\"Action: {frame['action']}\")\n",
    "        print(f\"Reward: {frame['reward']}\")\n",
    "        sleep(.1)\n",
    "        \n",
    "print_frames(frames)"
   ]
  },
  {
   "cell_type": "code",
   "execution_count": 22,
   "metadata": {},
   "outputs": [],
   "source": [
    "# Clearly this sucked because the agent was just moving randomly\n",
    "# until it stumbled into the right state."
   ]
  },
  {
   "cell_type": "code",
   "execution_count": 23,
   "metadata": {},
   "outputs": [],
   "source": [
    "# Enter Reinforcement Learning (online learning)\n",
    "# 1) Direct Evaluation --> On Policy\n",
    "# 2) Temporal Difference Learning --> On Policy\n",
    "# 3) Q-Learning --> Off Policy\n",
    "# 4) Approximate Q-Learning --> Off Policy"
   ]
  },
  {
   "cell_type": "code",
   "execution_count": null,
   "metadata": {},
   "outputs": [],
   "source": [
    "# Motivate RL using the brute force taxi-v3 solver.\n",
    "\n",
    "# Direct Evaluation\n",
    "# Use nchain-v0\n",
    "# 1) Fix some policy pi (can be initialized randomly)\n",
    "# 2) Collect Samples in Episodes\n",
    "# 2a) Maintain counts of total reward from each state onwards\n",
    "# 2b) Maintain counts of total number of times each state was visited\n",
    "# 3) Value of a state is then computed as total reward/number of visits\n",
    "# 4) Run Policy extraction to find best policy\n",
    "\n",
    "# How to implement\n",
    "# Make a table of states and total reward and times visited\n",
    "# Dict with structure:\n",
    "# {state: [(total reward, times visited, value)]}\n",
    "# update this dict as you explore\n",
    "\n",
    "\n",
    "# Temporal Difference Learning, \"Learn from every experience\"\n",
    "# 1) Set V(s) = 0 for all states initially and pick a random policy\n",
    "# 2) Take action according to policy pi(s) and receive reward R(s, a, s')\n",
    "# 3) Compute sample = R(s, a, s') + g*V(s')\n",
    "# 4) Incorporate this sample into the current value of s' using the update rule\n",
    "        # V(s') <- (1-alpha)*V(s') + alpha*sample\n",
    "# 5) As you explore, shrink the learning rate as a function of the number of times a state s' has been visited\n",
    "# 6) At the end of learning, you have some table of states by values.\n",
    "\n",
    "# How to implement\n",
    "# Make a table of states, values, and times visited\n",
    "# Dict with structure:\n",
    "# {state: [(times visited, value)]}\n",
    "# After each action, update state's value and times visited according to update rule, update alpha\n",
    "\n",
    "\n",
    "# Q-Learning\n",
    "# 1) Update is pretty much the same as in temporal difference, learning but the table changes to accomodate Q states instead of only values\n",
    "# 2) This lets us learn off-policy so we can split our time between exploiting the policy we have so far and exploring (epsilon greedy)\n",
    "# 3) This is also done in the tutorial so we can just go off of that\n",
    "\n",
    "\n",
    "# Overall ideas of this section:\n",
    "# Using the taxi-v3 environment,\n",
    "# 1) Introduce the problem, explain that we will doing model-free learning (explain differences between model-(based, free))\n",
    "# 2) Explain what a policy is and explain on policy vs off policy learning approaches\n",
    "# 3) Go over 2 on policy learning approaches with Taxi-v3\n",
    "# 3a) Direct Evaluation (easiest)\n",
    "# 3b) Temporal Difference <- Here explain the step size and why it is important (ema, favor newer, more correct information)\n",
    "# 4) Explain that we are learning values for each state here. How do we extract a policy?\n",
    "# 5) Go over value-iteration and policy extraction. Have them do some exercises with this.\n",
    "# 6) Go over 1 off policy learning approach with Taxi-v3\n",
    "# 6a) Q-Learning\n",
    "# 7) Explain exploration vs exploitation tradeoff and how epsilon greedy can be implemented.\n",
    "# \n",
    "# When going through any learning algorithm\n",
    "# pay special attention to the update steps and the policy extraction part\n",
    "# \n",
    "\n",
    "\n"
   ]
  },
  {
   "cell_type": "code",
   "execution_count": 17,
   "metadata": {},
   "outputs": [],
   "source": [
    "# Direct Evaluation on nchain-v0\n",
    "env = gym.make(\"NChain-v0\").env\n",
    "# Actions\n",
    "# 0 is forward \n",
    "# 1 is backwards\n",
    "# slip probability is 0.2\n",
    "# reward for backwards is 2\n",
    "# reward to go all the way to the end is 10\n"
   ]
  },
  {
   "cell_type": "code",
   "execution_count": 185,
   "metadata": {},
   "outputs": [],
   "source": [
    "# dir(env)\n",
    "import sys\n",
    "import numpy as np\n",
    "from gym import utils\n",
    "from io import StringIO\n",
    "from contextlib import closing"
   ]
  },
  {
   "cell_type": "code",
   "execution_count": 212,
   "metadata": {},
   "outputs": [],
   "source": [
    "# Render method to show what the agent is doing\n",
    "actions = []\n",
    "# Motivated from code: https://github.com/openai/gym/blob/master/gym/envs/toy_text/nchain.py\n",
    "def render_env(env, mode=\"human\"):\n",
    "    MAP = [\n",
    "    \"+-----------+\",\n",
    "    \"|S: : : : :E|\",\n",
    "    \"+-----------+\",\n",
    "    ]\n",
    "    outfile = StringIO() if mode == 'ansi' else sys.stdout\n",
    "    desc = np.asarray(MAP, dtype='c')\n",
    "    locs = [(0,0), (0,4)]\n",
    "    \n",
    "    out = desc.copy().tolist()\n",
    "    out = [[c.decode('utf-8') for c in line] for line in out]\n",
    "    agent_position = env.state\n",
    "    \n",
    "    if agent_position <= 5:\n",
    "        out[1][2*agent_position + 1] = utils.colorize(out[1][2*agent_position + 1], 'yellow', highlight=True)\n",
    "        \n",
    "    outfile.write(\"\\n\".join([\"\".join(row) for row in out]) + \"\\n\")\n",
    "    \n",
    "    if mode != 'human':\n",
    "        with closing(outfile):\n",
    "            return outfile.getvalue()\n",
    "            \n",
    "def sample_action_space():\n",
    "    return np.random.choice([0, 1])\n",
    "\n",
    "def step_env(env, action):\n",
    "    assert env.action_space.contains(action)\n",
    "    done = False\n",
    "    if env.np_random.rand() < env.slip:\n",
    "        action = not action  # agent slipped, reverse action taken\n",
    "    if action:  # 'backwards': go back to the beginning, get small reward\n",
    "        reward = env.small\n",
    "        env.state = 0\n",
    "    elif env.state < env.n - 1:  # 'forwards': go up along the chain\n",
    "        reward = 0\n",
    "        env.state += 1\n",
    "    else:  # 'forwards': stay at the end of the chain, collect large reward\n",
    "        reward = env.large\n",
    "        done = True\n",
    "        env.state += 1\n",
    "    return env.state, reward, done, {}"
   ]
  },
  {
   "cell_type": "code",
   "execution_count": 213,
   "metadata": {},
   "outputs": [
    {
     "name": "stdout",
     "output_type": "stream",
     "text": [
      "Timesteps taken: 66\n",
      "Small rewards incurred: 30\n"
     ]
    }
   ],
   "source": [
    "# Brute Force Solution (no RL)\n",
    "# env.s = 328   # set environment to illustration's state\n",
    "env.reset()\n",
    "epochs = 0\n",
    "penalties, reward = 0, 0\n",
    "\n",
    "frames = [] # for animation\n",
    "\n",
    "done = False\n",
    "\n",
    "while not done:\n",
    "    action = sample_action_space()\n",
    "    state, reward, done, info = step_env(env, action)\n",
    "#     print(state, reward, done, info)\n",
    "\n",
    "    if reward == 2:\n",
    "        penalties += 1\n",
    "    \n",
    "    # Put each rendered frame into dict for animation\n",
    "    frames.append({\n",
    "        'frame': render_env(env, mode='ansi'),\n",
    "        'state': state,\n",
    "        'action': action,\n",
    "        'reward': reward\n",
    "        }\n",
    "    )\n",
    "\n",
    "    epochs += 1\n",
    "    \n",
    "    \n",
    "print(\"Timesteps taken: {}\".format(epochs))\n",
    "print(\"Small rewards incurred: {}\".format(penalties))"
   ]
  },
  {
   "cell_type": "code",
   "execution_count": 214,
   "metadata": {},
   "outputs": [
    {
     "name": "stdout",
     "output_type": "stream",
     "text": [
      "+-----------+\n",
      "|S: : : : :\u001b[43mE\u001b[0m|\n",
      "+-----------+\n",
      "\n",
      "Timestep: 66\n",
      "State: 5\n",
      "Action: 0\n",
      "Reward: 10\n"
     ]
    }
   ],
   "source": [
    "# Looking at this, it takes a long time for the agent to find \n",
    "# the +10 reward at the end of the chain. Now let's introduce RL\n",
    "# through Direct Evaluation. But first, let's review the basics.\n",
    "\n",
    "print_frames(frames)"
   ]
  },
  {
   "cell_type": "code",
   "execution_count": 215,
   "metadata": {},
   "outputs": [],
   "source": [
    "# Online Planning vs Offline Planning\n",
    "# Underlying MDP\n",
    "# Classic diagram\n",
    "# Agent -> action -> Environment -> state, reward -> Agent ...\n",
    "# Continue sampling until state is terminal\n",
    "# The total collection of samples is epoch"
   ]
  },
  {
   "cell_type": "code",
   "execution_count": 224,
   "metadata": {},
   "outputs": [],
   "source": [
    "# Two approaches to RL\n",
    "    # 1) Model Based --> Agent learns Transition probs and rewards\n",
    "        # by exploring and then uses value iteration and policy \n",
    "        # extraction to find the policy. (takes into account the\n",
    "        # underlying mdp)\n",
    "    # 2) Model Free --> Agent just tries to directly estimate \n",
    "        # values and q values without considering the underlying mdp\n",
    "\n",
    "# Let's take a look at model-free learning.\n",
    "# Within model free learning we further differentiate between\n",
    "    # 1) Passive RL -> Agent is given a policy and learns the value of states under that policy\n",
    "    # 2) Active RL -> Agent iteratively updates its policy while learning until eventually learning opt policy"
   ]
  },
  {
   "cell_type": "code",
   "execution_count": null,
   "metadata": {},
   "outputs": [],
   "source": [
    "# 1) Direct Evaluation"
   ]
  }
 ],
 "metadata": {
  "kernelspec": {
   "display_name": "Python 3",
   "language": "python",
   "name": "python3"
  },
  "language_info": {
   "codemirror_mode": {
    "name": "ipython",
    "version": 3
   },
   "file_extension": ".py",
   "mimetype": "text/x-python",
   "name": "python",
   "nbconvert_exporter": "python",
   "pygments_lexer": "ipython3",
   "version": "3.7.4"
  }
 },
 "nbformat": 4,
 "nbformat_minor": 2
}
